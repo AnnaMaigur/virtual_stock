{
 "cells": [
  {
   "cell_type": "markdown",
   "id": "64e3a123-bf3a-4f95-84c1-30c9365008dc",
   "metadata": {},
   "source": [
    "#### Here I am calculating virtual stock. We identify stock to be virtual if stock was unchanged during two weeks with zero sales. Also here lost sales are calculated as an average sales per outlet w/o vitrual stock times number of outlets with virtual stock"
   ]
  },
  {
   "cell_type": "code",
   "execution_count": 2,
   "id": "1dde9edf-5861-4f4a-a1b3-dd296d4bd70f",
   "metadata": {},
   "outputs": [],
   "source": [
    "import os\n",
    "os.chdir(r\"C:\\Users\\maiguann\\OneDrive - Mars Inc\\Documents\\MW alert system DC\\data\")\n",
    "import numpy as np\n",
    "import pandas as pd\n",
    "#!pip install openpyxl"
   ]
  },
  {
   "cell_type": "code",
   "execution_count": 3,
   "id": "d8212753-eddd-41fc-bfb1-cf3de77150a1",
   "metadata": {},
   "outputs": [
    {
     "name": "stderr",
     "output_type": "stream",
     "text": [
      "C:\\Users\\maiguann\\Miniconda3\\lib\\site-packages\\IPython\\core\\interactiveshell.py:3441: DtypeWarning: Columns (11) have mixed types.Specify dtype option on import or set low_memory=False.\n",
      "  exec(code_obj, self.user_global_ns, self.user_ns)\n"
     ]
    }
   ],
   "source": [
    "#product matrix\n",
    "matrix = pd.read_csv (r'C:\\Users\\maiguann\\OneDrive - Mars Inc\\Documents\\MW alert system DC\\SO_data (4).csv')\n",
    "matrix = matrix[['plu_code', 'in_matrix', 'address_text']]\n",
    "matrix = matrix.drop_duplicates()\n"
   ]
  },
  {
   "cell_type": "code",
   "execution_count": 4,
   "id": "98ae9bd7-6e39-4598-8875-d8ca569b394c",
   "metadata": {},
   "outputs": [],
   "source": [
    "#directory (external outlet code)\n",
    "na_code = pd.read_excel (r\"C:\\Users\\maiguann\\OneDrive - Mars Inc\\Documents\\MW alert system DC\\NA code.xlsx\", sheet_name='Sales')\n",
    "na_code = na_code.iloc[6: , :]\n",
    "na_code=na_code.rename(columns=na_code.iloc[0]).drop(na_code.index[0])"
   ]
  },
  {
   "cell_type": "code",
   "execution_count": 5,
   "id": "7d6b0894-6acd-4f79-8ef6-143ae87c61b3",
   "metadata": {},
   "outputs": [],
   "source": [
    "#directory (products' prices)\n",
    "current_prices = pd.read_excel(r'C:\\Users\\maiguann\\OneDrive - Mars Inc\\Documents\\справочник\\current_prices.xlsx', sheet_name = 'E2E X5')\n",
    "current_prices = current_prices.iloc[3: , :]\n",
    "current_prices=current_prices.rename(columns=current_prices.iloc[0]).drop(current_prices.index[0])"
   ]
  },
  {
   "cell_type": "code",
   "execution_count": 6,
   "id": "f09a20ee-fb58-4a62-8cf9-685e5925da6b",
   "metadata": {},
   "outputs": [],
   "source": [
    "current_prices['price'] = current_prices['Outlet Stock, RUR'].divide(current_prices['Outlet Stock, Qty']+.000000000000000000000000001)\n",
    "current_prices['price']=current_prices['price'].replace([np.inf,-np.inf], np.nan)\n",
    "current_prices['price']=current_prices['price'].replace(0,np.nan)"
   ]
  },
  {
   "cell_type": "code",
   "execution_count": 7,
   "id": "58a22378-1fa6-41f5-ada7-da85d5401d7b",
   "metadata": {},
   "outputs": [],
   "source": [
    "current_prices['Product Code']=current_prices['Product Code'].astype(int)"
   ]
  },
  {
   "cell_type": "code",
   "execution_count": 8,
   "id": "1b2c5d07-63c4-4465-91d2-45ec4aa27172",
   "metadata": {},
   "outputs": [],
   "source": [
    "old_prices = pd.read_excel(r'C:\\Users\\maiguann\\OneDrive - Mars Inc\\Documents\\справочник\\ZREP-PLU-price.xlsx', sheet_name = 'ZREP-PLU-Price')\n",
    "current_prices = pd.merge(current_prices, old_prices, left_on = 'Product Code', right_on = 'PLU', how='outer')"
   ]
  },
  {
   "cell_type": "code",
   "execution_count": 9,
   "id": "6bfebf05-cbe5-48f0-a53b-809868b4428c",
   "metadata": {},
   "outputs": [],
   "source": [
    "current_prices['price'].fillna(current_prices['BASE PRICE, PC'], inplace=True)\n",
    "current_prices['Product Code'].fillna(current_prices['PLU'], inplace=True)\n",
    "current_prices = current_prices[['Product Code','price']]\n",
    "current_prices=current_prices.drop_duplicates(subset =['Product Code'] )\n",
    "current_prices = current_prices.dropna(subset = ['price'])"
   ]
  },
  {
   "cell_type": "code",
   "execution_count": 10,
   "id": "18d3df19-3b34-44eb-996f-0ab1c9583a51",
   "metadata": {},
   "outputs": [
    {
     "data": {
      "text/html": [
       "<div>\n",
       "<style scoped>\n",
       "    .dataframe tbody tr th:only-of-type {\n",
       "        vertical-align: middle;\n",
       "    }\n",
       "\n",
       "    .dataframe tbody tr th {\n",
       "        vertical-align: top;\n",
       "    }\n",
       "\n",
       "    .dataframe thead th {\n",
       "        text-align: right;\n",
       "    }\n",
       "</style>\n",
       "<table border=\"1\" class=\"dataframe\">\n",
       "  <thead>\n",
       "    <tr style=\"text-align: right;\">\n",
       "      <th></th>\n",
       "      <th>Product Code</th>\n",
       "      <th>price</th>\n",
       "    </tr>\n",
       "  </thead>\n",
       "  <tbody>\n",
       "    <tr>\n",
       "      <th>237</th>\n",
       "      <td>3699502.0</td>\n",
       "      <td>3.869790e+03</td>\n",
       "    </tr>\n",
       "    <tr>\n",
       "      <th>238</th>\n",
       "      <td>3699503.0</td>\n",
       "      <td>1.548000e+28</td>\n",
       "    </tr>\n",
       "  </tbody>\n",
       "</table>\n",
       "</div>"
      ],
      "text/plain": [
       "     Product Code         price\n",
       "237     3699502.0  3.869790e+03\n",
       "238     3699503.0  1.548000e+28"
      ]
     },
     "execution_count": 10,
     "metadata": {},
     "output_type": "execute_result"
    }
   ],
   "source": [
    "current_prices[current_prices['price']>700]\n",
    "#Extraordinary prices"
   ]
  },
  {
   "cell_type": "markdown",
   "id": "27274320-c104-42e2-9cb6-0ebb8ce3cbe0",
   "metadata": {},
   "source": [
    "## Uploading new data (stock and sales) and saving it as distinct csv files"
   ]
  },
  {
   "cell_type": "code",
   "execution_count": null,
   "id": "03200b55-3aaf-496e-b22e-7659b5b84fcd",
   "metadata": {},
   "outputs": [],
   "source": [
    "#Uploding new data (stock and sales) and saving it as distinct csv files\n",
    "data = pd.read_csv(r\"C:\\Users\\maiguann\\OneDrive - Mars Inc\\Documents\\MW alert system DC\\data_csv\\data_2609.csv\")"
   ]
  },
  {
   "cell_type": "code",
   "execution_count": null,
   "id": "16f4636c-1828-42b1-8a92-9b35c1da50c3",
   "metadata": {},
   "outputs": [],
   "source": [
    "sales_new = data[data['Measure Names'] == 'sale_pcs']\n",
    "stock_new = data[data['Measure Names'] == 'stock_pcs']\n",
    "sales_new = sales_new[['address_text', 'assort_level', 'brand_name', 'day_dt', 'macro_name', 'plu_code', 'plu_name','store_dc_code', 'Measure Values']]\n",
    "stock_new = stock_new[['address_text', 'assort_level', 'brand_name', 'day_dt', 'macro_name', 'plu_code', 'plu_name', 'store_dc_code', 'Measure Values']]"
   ]
  },
  {
   "cell_type": "code",
   "execution_count": null,
   "id": "f96be157-62a2-49fa-8eb5-0c5ef0ef05a8",
   "metadata": {},
   "outputs": [],
   "source": [
    "stock_new = stock_new.pivot_table(index =['macro_name', 'address_text', 'plu_code', 'plu_name', 'store_dc_code'],columns='day_dt',values='Measure Values').reset_index() \n",
    "sales_new = sales_new.pivot_table(index =['macro_name', 'address_text', 'plu_code', 'plu_name', 'store_dc_code'],columns='day_dt',values='Measure Values').reset_index()"
   ]
  },
  {
   "cell_type": "code",
   "execution_count": null,
   "id": "95e75b32-8e1c-4f0f-aa48-2e0f3c5d53f8",
   "metadata": {
    "tags": []
   },
   "outputs": [],
   "source": [
    "stock_new.to_csv(r\"C:\\Users\\maiguann\\OneDrive - Mars Inc\\Documents\\MW alert system DC\\data_csv\\stock MW 2609.csv\")\n",
    "sales_new.to_csv(r\"C:\\Users\\maiguann\\OneDrive - Mars Inc\\Documents\\MW alert system DC\\data_csv\\sales MW 2609.csv\")"
   ]
  },
  {
   "cell_type": "markdown",
   "id": "7b03021c-cfd7-484d-8609-72a725f0ee8a",
   "metadata": {},
   "source": [
    "## Creating datasets with two-weeks sales and stock"
   ]
  },
  {
   "cell_type": "code",
   "execution_count": 12,
   "id": "da63c918-0637-48e9-88e1-fe4fa5faecfb",
   "metadata": {},
   "outputs": [
    {
     "name": "stderr",
     "output_type": "stream",
     "text": [
      "C:\\Users\\maiguann\\Miniconda3\\lib\\site-packages\\IPython\\core\\interactiveshell.py:3441: DtypeWarning: Columns (1) have mixed types.Specify dtype option on import or set low_memory=False.\n",
      "  exec(code_obj, self.user_global_ns, self.user_ns)\n"
     ]
    }
   ],
   "source": [
    "sales_1 = pd.read_csv (r\"C:\\Users\\maiguann\\OneDrive - Mars Inc\\Documents\\MW alert system DC\\data_csv\\sales MW 1909.csv\")\n",
    "sales_1.drop('Unnamed: 0', inplace=True, axis=1)\n",
    "sales_2 = pd.read_csv (r\"C:\\Users\\maiguann\\OneDrive - Mars Inc\\Documents\\MW alert system DC\\data_csv\\sales MW 2609.csv\")\n",
    "sales_2.drop('Unnamed: 0', inplace=True, axis=1)\n",
    "sales_two_weeks = pd.merge(sales_1, sales_2)"
   ]
  },
  {
   "cell_type": "code",
   "execution_count": 13,
   "id": "e80053fd-600e-43de-90a1-86cbfce4ecdc",
   "metadata": {},
   "outputs": [
    {
     "data": {
      "text/html": [
       "<div>\n",
       "<style scoped>\n",
       "    .dataframe tbody tr th:only-of-type {\n",
       "        vertical-align: middle;\n",
       "    }\n",
       "\n",
       "    .dataframe tbody tr th {\n",
       "        vertical-align: top;\n",
       "    }\n",
       "\n",
       "    .dataframe thead th {\n",
       "        text-align: right;\n",
       "    }\n",
       "</style>\n",
       "<table border=\"1\" class=\"dataframe\">\n",
       "  <thead>\n",
       "    <tr style=\"text-align: right;\">\n",
       "      <th></th>\n",
       "      <th>werks</th>\n",
       "      <th>address_text</th>\n",
       "      <th>macro_name</th>\n",
       "      <th>assort_level</th>\n",
       "      <th>status</th>\n",
       "      <th>plu_name</th>\n",
       "      <th>plu_code</th>\n",
       "      <th>2021-09-13 00:00:00</th>\n",
       "      <th>2021-09-14 00:00:00</th>\n",
       "      <th>2021-09-15 00:00:00</th>\n",
       "      <th>...</th>\n",
       "      <th>2021-09-19 00:00:00</th>\n",
       "      <th>brand_name</th>\n",
       "      <th>2021-09-20 00:00:00</th>\n",
       "      <th>2021-09-21 00:00:00</th>\n",
       "      <th>2021-09-22 00:00:00</th>\n",
       "      <th>2021-09-23 00:00:00</th>\n",
       "      <th>2021-09-24 00:00:00</th>\n",
       "      <th>2021-09-25 00:00:00</th>\n",
       "      <th>2021-09-26 00:00:00</th>\n",
       "      <th>in_matrix</th>\n",
       "    </tr>\n",
       "  </thead>\n",
       "  <tbody>\n",
       "    <tr>\n",
       "      <th>2</th>\n",
       "      <td>30A0</td>\n",
       "      <td>129323, Москва г, Седова ул, 13А</td>\n",
       "      <td>Москва</td>\n",
       "      <td>5.0</td>\n",
       "      <td>Объект открыт</td>\n",
       "      <td>BOUNTY Конф.неж.мяк.кок.покр.мол.шок.1кг</td>\n",
       "      <td>78005190</td>\n",
       "      <td>1.0</td>\n",
       "      <td>0.0</td>\n",
       "      <td>0.0</td>\n",
       "      <td>...</td>\n",
       "      <td>1.0</td>\n",
       "      <td>BOUNTY</td>\n",
       "      <td>0.0</td>\n",
       "      <td>NaN</td>\n",
       "      <td>2.0</td>\n",
       "      <td>0.0</td>\n",
       "      <td>NaN</td>\n",
       "      <td>1.0</td>\n",
       "      <td>NaN</td>\n",
       "      <td>1.0</td>\n",
       "    </tr>\n",
       "    <tr>\n",
       "      <th>3</th>\n",
       "      <td>30A0</td>\n",
       "      <td>129323, Москва г, Седова ул, 13А</td>\n",
       "      <td>Москва</td>\n",
       "      <td>5.0</td>\n",
       "      <td>Объект открыт</td>\n",
       "      <td>BOUNTY Конф.РАЙСКИЙ АНАНАС 1кг</td>\n",
       "      <td>3670735</td>\n",
       "      <td>NaN</td>\n",
       "      <td>NaN</td>\n",
       "      <td>NaN</td>\n",
       "      <td>...</td>\n",
       "      <td>0.0</td>\n",
       "      <td>BOUNTY</td>\n",
       "      <td>NaN</td>\n",
       "      <td>NaN</td>\n",
       "      <td>NaN</td>\n",
       "      <td>NaN</td>\n",
       "      <td>NaN</td>\n",
       "      <td>NaN</td>\n",
       "      <td>NaN</td>\n",
       "      <td>1.0</td>\n",
       "    </tr>\n",
       "    <tr>\n",
       "      <th>4</th>\n",
       "      <td>30A0</td>\n",
       "      <td>129323, Москва г, Седова ул, 13А</td>\n",
       "      <td>Москва</td>\n",
       "      <td>5.0</td>\n",
       "      <td>Объект открыт</td>\n",
       "      <td>ECLIPSE Жев.рез.ЛЕДЯНАЯ ВИШНЯ 13,6г</td>\n",
       "      <td>2111640</td>\n",
       "      <td>NaN</td>\n",
       "      <td>1.0</td>\n",
       "      <td>2.0</td>\n",
       "      <td>...</td>\n",
       "      <td>NaN</td>\n",
       "      <td>ECLIPSE</td>\n",
       "      <td>NaN</td>\n",
       "      <td>NaN</td>\n",
       "      <td>NaN</td>\n",
       "      <td>1.0</td>\n",
       "      <td>2.0</td>\n",
       "      <td>NaN</td>\n",
       "      <td>NaN</td>\n",
       "      <td>1.0</td>\n",
       "    </tr>\n",
       "    <tr>\n",
       "      <th>7</th>\n",
       "      <td>30A0</td>\n",
       "      <td>129323, Москва г, Седова ул, 13А</td>\n",
       "      <td>Москва</td>\n",
       "      <td>5.0</td>\n",
       "      <td>Объект открыт</td>\n",
       "      <td>M&amp;MS Драже КРИСПИ хр.шар.мол.шок.гл.110г</td>\n",
       "      <td>4043863</td>\n",
       "      <td>NaN</td>\n",
       "      <td>NaN</td>\n",
       "      <td>NaN</td>\n",
       "      <td>...</td>\n",
       "      <td>NaN</td>\n",
       "      <td>M&amp;M</td>\n",
       "      <td>NaN</td>\n",
       "      <td>NaN</td>\n",
       "      <td>1.0</td>\n",
       "      <td>NaN</td>\n",
       "      <td>NaN</td>\n",
       "      <td>NaN</td>\n",
       "      <td>NaN</td>\n",
       "      <td>1.0</td>\n",
       "    </tr>\n",
       "    <tr>\n",
       "      <th>8</th>\n",
       "      <td>30A0</td>\n",
       "      <td>129323, Москва г, Седова ул, 13А</td>\n",
       "      <td>Москва</td>\n",
       "      <td>5.0</td>\n",
       "      <td>Объект открыт</td>\n",
       "      <td>M&amp;MS Драже с ар/мол.шок.пок.хр.глаз.80г</td>\n",
       "      <td>4162277</td>\n",
       "      <td>NaN</td>\n",
       "      <td>NaN</td>\n",
       "      <td>NaN</td>\n",
       "      <td>...</td>\n",
       "      <td>2.0</td>\n",
       "      <td>M&amp;M</td>\n",
       "      <td>NaN</td>\n",
       "      <td>1.0</td>\n",
       "      <td>NaN</td>\n",
       "      <td>NaN</td>\n",
       "      <td>NaN</td>\n",
       "      <td>NaN</td>\n",
       "      <td>NaN</td>\n",
       "      <td>1.0</td>\n",
       "    </tr>\n",
       "    <tr>\n",
       "      <th>...</th>\n",
       "      <td>...</td>\n",
       "      <td>...</td>\n",
       "      <td>...</td>\n",
       "      <td>...</td>\n",
       "      <td>...</td>\n",
       "      <td>...</td>\n",
       "      <td>...</td>\n",
       "      <td>...</td>\n",
       "      <td>...</td>\n",
       "      <td>...</td>\n",
       "      <td>...</td>\n",
       "      <td>...</td>\n",
       "      <td>...</td>\n",
       "      <td>...</td>\n",
       "      <td>...</td>\n",
       "      <td>...</td>\n",
       "      <td>...</td>\n",
       "      <td>...</td>\n",
       "      <td>...</td>\n",
       "      <td>...</td>\n",
       "      <td>...</td>\n",
       "    </tr>\n",
       "    <tr>\n",
       "      <th>969520</th>\n",
       "      <td>Y998</td>\n",
       "      <td>Московская обл, Ногинский р-н, Старая Купавна ...</td>\n",
       "      <td>Москва</td>\n",
       "      <td>15.0</td>\n",
       "      <td>Объект открыт</td>\n",
       "      <td>Батончик MILKY WAY шоколадный 26г</td>\n",
       "      <td>5164</td>\n",
       "      <td>NaN</td>\n",
       "      <td>1.0</td>\n",
       "      <td>4.0</td>\n",
       "      <td>...</td>\n",
       "      <td>NaN</td>\n",
       "      <td>MILKY WAY</td>\n",
       "      <td>6.0</td>\n",
       "      <td>4.0</td>\n",
       "      <td>NaN</td>\n",
       "      <td>4.0</td>\n",
       "      <td>NaN</td>\n",
       "      <td>2.0</td>\n",
       "      <td>NaN</td>\n",
       "      <td>1.0</td>\n",
       "    </tr>\n",
       "    <tr>\n",
       "      <th>969521</th>\n",
       "      <td>Y998</td>\n",
       "      <td>Московская обл, Ногинский р-н, Старая Купавна ...</td>\n",
       "      <td>Москва</td>\n",
       "      <td>15.0</td>\n",
       "      <td>Объект открыт</td>\n",
       "      <td>Батончик TWIX шоколадный 55г</td>\n",
       "      <td>7650</td>\n",
       "      <td>1.0</td>\n",
       "      <td>1.0</td>\n",
       "      <td>1.0</td>\n",
       "      <td>...</td>\n",
       "      <td>NaN</td>\n",
       "      <td>TWIX</td>\n",
       "      <td>2.0</td>\n",
       "      <td>NaN</td>\n",
       "      <td>NaN</td>\n",
       "      <td>1.0</td>\n",
       "      <td>NaN</td>\n",
       "      <td>NaN</td>\n",
       "      <td>NaN</td>\n",
       "      <td>1.0</td>\n",
       "    </tr>\n",
       "    <tr>\n",
       "      <th>969522</th>\n",
       "      <td>Y998</td>\n",
       "      <td>Московская обл, Ногинский р-н, Старая Купавна ...</td>\n",
       "      <td>Москва</td>\n",
       "      <td>15.0</td>\n",
       "      <td>Объект открыт</td>\n",
       "      <td>Ж.р.ORB.REFRESH.б.с.вк.тр.фрТРОП.МИКС16г</td>\n",
       "      <td>4111967</td>\n",
       "      <td>2.0</td>\n",
       "      <td>NaN</td>\n",
       "      <td>NaN</td>\n",
       "      <td>...</td>\n",
       "      <td>NaN</td>\n",
       "      <td>ORBIT</td>\n",
       "      <td>NaN</td>\n",
       "      <td>NaN</td>\n",
       "      <td>1.0</td>\n",
       "      <td>1.0</td>\n",
       "      <td>NaN</td>\n",
       "      <td>1.0</td>\n",
       "      <td>NaN</td>\n",
       "      <td>1.0</td>\n",
       "    </tr>\n",
       "    <tr>\n",
       "      <th>969523</th>\n",
       "      <td>Y998</td>\n",
       "      <td>Московская обл, Ногинский р-н, Старая Купавна ...</td>\n",
       "      <td>Москва</td>\n",
       "      <td>15.0</td>\n",
       "      <td>Объект открыт</td>\n",
       "      <td>Конфета BOUNTY с мяк.кокос.в мол.шок.55г</td>\n",
       "      <td>3663</td>\n",
       "      <td>NaN</td>\n",
       "      <td>1.0</td>\n",
       "      <td>NaN</td>\n",
       "      <td>...</td>\n",
       "      <td>NaN</td>\n",
       "      <td>BOUNTY</td>\n",
       "      <td>NaN</td>\n",
       "      <td>NaN</td>\n",
       "      <td>NaN</td>\n",
       "      <td>1.0</td>\n",
       "      <td>2.0</td>\n",
       "      <td>1.0</td>\n",
       "      <td>NaN</td>\n",
       "      <td>1.0</td>\n",
       "    </tr>\n",
       "    <tr>\n",
       "      <th>969525</th>\n",
       "      <td>Y998</td>\n",
       "      <td>Московская обл, Ногинский р-н, Старая Купавна ...</td>\n",
       "      <td>Москва</td>\n",
       "      <td>15.0</td>\n",
       "      <td>Объект открыт</td>\n",
       "      <td>КОРКУНОВ Кол.плит.шок.мол/тем/м.фун.131г</td>\n",
       "      <td>4158069</td>\n",
       "      <td>NaN</td>\n",
       "      <td>NaN</td>\n",
       "      <td>NaN</td>\n",
       "      <td>...</td>\n",
       "      <td>NaN</td>\n",
       "      <td>КОРКУНОВ</td>\n",
       "      <td>NaN</td>\n",
       "      <td>NaN</td>\n",
       "      <td>NaN</td>\n",
       "      <td>NaN</td>\n",
       "      <td>NaN</td>\n",
       "      <td>NaN</td>\n",
       "      <td>NaN</td>\n",
       "      <td>1.0</td>\n",
       "    </tr>\n",
       "  </tbody>\n",
       "</table>\n",
       "<p>742132 rows × 23 columns</p>\n",
       "</div>"
      ],
      "text/plain": [
       "       werks                                       address_text macro_name  \\\n",
       "2       30A0                   129323, Москва г, Седова ул, 13А     Москва   \n",
       "3       30A0                   129323, Москва г, Седова ул, 13А     Москва   \n",
       "4       30A0                   129323, Москва г, Седова ул, 13А     Москва   \n",
       "7       30A0                   129323, Москва г, Седова ул, 13А     Москва   \n",
       "8       30A0                   129323, Москва г, Седова ул, 13А     Москва   \n",
       "...      ...                                                ...        ...   \n",
       "969520  Y998  Московская обл, Ногинский р-н, Старая Купавна ...     Москва   \n",
       "969521  Y998  Московская обл, Ногинский р-н, Старая Купавна ...     Москва   \n",
       "969522  Y998  Московская обл, Ногинский р-н, Старая Купавна ...     Москва   \n",
       "969523  Y998  Московская обл, Ногинский р-н, Старая Купавна ...     Москва   \n",
       "969525  Y998  Московская обл, Ногинский р-н, Старая Купавна ...     Москва   \n",
       "\n",
       "        assort_level         status                                  plu_name  \\\n",
       "2                5.0  Объект открыт  BOUNTY Конф.неж.мяк.кок.покр.мол.шок.1кг   \n",
       "3                5.0  Объект открыт            BOUNTY Конф.РАЙСКИЙ АНАНАС 1кг   \n",
       "4                5.0  Объект открыт       ECLIPSE Жев.рез.ЛЕДЯНАЯ ВИШНЯ 13,6г   \n",
       "7                5.0  Объект открыт  M&MS Драже КРИСПИ хр.шар.мол.шок.гл.110г   \n",
       "8                5.0  Объект открыт   M&MS Драже с ар/мол.шок.пок.хр.глаз.80г   \n",
       "...              ...            ...                                       ...   \n",
       "969520          15.0  Объект открыт         Батончик MILKY WAY шоколадный 26г   \n",
       "969521          15.0  Объект открыт              Батончик TWIX шоколадный 55г   \n",
       "969522          15.0  Объект открыт  Ж.р.ORB.REFRESH.б.с.вк.тр.фрТРОП.МИКС16г   \n",
       "969523          15.0  Объект открыт  Конфета BOUNTY с мяк.кокос.в мол.шок.55г   \n",
       "969525          15.0  Объект открыт  КОРКУНОВ Кол.плит.шок.мол/тем/м.фун.131г   \n",
       "\n",
       "        plu_code  2021-09-13 00:00:00  2021-09-14 00:00:00  \\\n",
       "2       78005190                  1.0                  0.0   \n",
       "3        3670735                  NaN                  NaN   \n",
       "4        2111640                  NaN                  1.0   \n",
       "7        4043863                  NaN                  NaN   \n",
       "8        4162277                  NaN                  NaN   \n",
       "...          ...                  ...                  ...   \n",
       "969520      5164                  NaN                  1.0   \n",
       "969521      7650                  1.0                  1.0   \n",
       "969522   4111967                  2.0                  NaN   \n",
       "969523      3663                  NaN                  1.0   \n",
       "969525   4158069                  NaN                  NaN   \n",
       "\n",
       "        2021-09-15 00:00:00  ...  2021-09-19 00:00:00  brand_name  \\\n",
       "2                       0.0  ...                  1.0      BOUNTY   \n",
       "3                       NaN  ...                  0.0      BOUNTY   \n",
       "4                       2.0  ...                  NaN     ECLIPSE   \n",
       "7                       NaN  ...                  NaN         M&M   \n",
       "8                       NaN  ...                  2.0         M&M   \n",
       "...                     ...  ...                  ...         ...   \n",
       "969520                  4.0  ...                  NaN   MILKY WAY   \n",
       "969521                  1.0  ...                  NaN        TWIX   \n",
       "969522                  NaN  ...                  NaN       ORBIT   \n",
       "969523                  NaN  ...                  NaN      BOUNTY   \n",
       "969525                  NaN  ...                  NaN    КОРКУНОВ   \n",
       "\n",
       "        2021-09-20 00:00:00  2021-09-21 00:00:00 2021-09-22 00:00:00  \\\n",
       "2                       0.0                  NaN                 2.0   \n",
       "3                       NaN                  NaN                 NaN   \n",
       "4                       NaN                  NaN                 NaN   \n",
       "7                       NaN                  NaN                 1.0   \n",
       "8                       NaN                  1.0                 NaN   \n",
       "...                     ...                  ...                 ...   \n",
       "969520                  6.0                  4.0                 NaN   \n",
       "969521                  2.0                  NaN                 NaN   \n",
       "969522                  NaN                  NaN                 1.0   \n",
       "969523                  NaN                  NaN                 NaN   \n",
       "969525                  NaN                  NaN                 NaN   \n",
       "\n",
       "        2021-09-23 00:00:00  2021-09-24 00:00:00  2021-09-25 00:00:00  \\\n",
       "2                       0.0                  NaN                  1.0   \n",
       "3                       NaN                  NaN                  NaN   \n",
       "4                       1.0                  2.0                  NaN   \n",
       "7                       NaN                  NaN                  NaN   \n",
       "8                       NaN                  NaN                  NaN   \n",
       "...                     ...                  ...                  ...   \n",
       "969520                  4.0                  NaN                  2.0   \n",
       "969521                  1.0                  NaN                  NaN   \n",
       "969522                  1.0                  NaN                  1.0   \n",
       "969523                  1.0                  2.0                  1.0   \n",
       "969525                  NaN                  NaN                  NaN   \n",
       "\n",
       "        2021-09-26 00:00:00  in_matrix  \n",
       "2                       NaN        1.0  \n",
       "3                       NaN        1.0  \n",
       "4                       NaN        1.0  \n",
       "7                       NaN        1.0  \n",
       "8                       NaN        1.0  \n",
       "...                     ...        ...  \n",
       "969520                  NaN        1.0  \n",
       "969521                  NaN        1.0  \n",
       "969522                  NaN        1.0  \n",
       "969523                  NaN        1.0  \n",
       "969525                  NaN        1.0  \n",
       "\n",
       "[742132 rows x 23 columns]"
      ]
     },
     "execution_count": 13,
     "metadata": {},
     "output_type": "execute_result"
    }
   ],
   "source": [
    "sales_two_weeks=pd.merge(sales_two_weeks, matrix,on = ('plu_code', 'address_text'), how = 'left')\n",
    "sales_two_weeks = sales_two_weeks[sales_two_weeks['in_matrix']==1]\n",
    "sales_two_weeks"
   ]
  },
  {
   "cell_type": "code",
   "execution_count": 14,
   "id": "8ab39577-a9d5-45be-9516-1f499c464d43",
   "metadata": {},
   "outputs": [
    {
     "data": {
      "text/html": [
       "<div>\n",
       "<style scoped>\n",
       "    .dataframe tbody tr th:only-of-type {\n",
       "        vertical-align: middle;\n",
       "    }\n",
       "\n",
       "    .dataframe tbody tr th {\n",
       "        vertical-align: top;\n",
       "    }\n",
       "\n",
       "    .dataframe thead th {\n",
       "        text-align: right;\n",
       "    }\n",
       "</style>\n",
       "<table border=\"1\" class=\"dataframe\">\n",
       "  <thead>\n",
       "    <tr style=\"text-align: right;\">\n",
       "      <th></th>\n",
       "      <th>werks</th>\n",
       "      <th>address_text</th>\n",
       "      <th>macro_name</th>\n",
       "      <th>assort_level</th>\n",
       "      <th>status</th>\n",
       "      <th>plu_name</th>\n",
       "      <th>plu_code</th>\n",
       "      <th>2021-09-13 00:00:00</th>\n",
       "      <th>2021-09-14 00:00:00</th>\n",
       "      <th>2021-09-15 00:00:00</th>\n",
       "      <th>...</th>\n",
       "      <th>2021-09-19 00:00:00</th>\n",
       "      <th>brand_name</th>\n",
       "      <th>2021-09-20 00:00:00</th>\n",
       "      <th>2021-09-21 00:00:00</th>\n",
       "      <th>2021-09-22 00:00:00</th>\n",
       "      <th>2021-09-23 00:00:00</th>\n",
       "      <th>2021-09-24 00:00:00</th>\n",
       "      <th>2021-09-25 00:00:00</th>\n",
       "      <th>2021-09-26 00:00:00</th>\n",
       "      <th>in_matrix</th>\n",
       "    </tr>\n",
       "  </thead>\n",
       "  <tbody>\n",
       "  </tbody>\n",
       "</table>\n",
       "<p>0 rows × 23 columns</p>\n",
       "</div>"
      ],
      "text/plain": [
       "Empty DataFrame\n",
       "Columns: [werks, address_text, macro_name, assort_level, status, plu_name, plu_code, 2021-09-13 00:00:00, 2021-09-14 00:00:00, 2021-09-15 00:00:00, 2021-09-16 00:00:00, 2021-09-17 00:00:00, 2021-09-18 00:00:00, 2021-09-19 00:00:00, brand_name, 2021-09-20 00:00:00, 2021-09-21 00:00:00, 2021-09-22 00:00:00, 2021-09-23 00:00:00, 2021-09-24 00:00:00, 2021-09-25 00:00:00, 2021-09-26 00:00:00, in_matrix]\n",
       "Index: []\n",
       "\n",
       "[0 rows x 23 columns]"
      ]
     },
     "execution_count": 14,
     "metadata": {},
     "output_type": "execute_result"
    }
   ],
   "source": [
    "sales_two_weeks[sales_two_weeks['in_matrix']!=1]\n",
    "#checkinf if merging is correct"
   ]
  },
  {
   "cell_type": "code",
   "execution_count": 15,
   "id": "482dfcc9-d2e8-46d2-9465-b987f828dc9e",
   "metadata": {},
   "outputs": [
    {
     "name": "stderr",
     "output_type": "stream",
     "text": [
      "C:\\Users\\maiguann\\Miniconda3\\lib\\site-packages\\IPython\\core\\interactiveshell.py:3441: DtypeWarning: Columns (1) have mixed types.Specify dtype option on import or set low_memory=False.\n",
      "  exec(code_obj, self.user_global_ns, self.user_ns)\n"
     ]
    }
   ],
   "source": [
    "stock_1 = pd.read_csv (r\"C:\\Users\\maiguann\\OneDrive - Mars Inc\\Documents\\MW alert system DC\\data_csv\\stock MW 1909.csv\")\n",
    "stock_1.drop('Unnamed: 0', inplace=True, axis=1)\n",
    "stock_2 = pd.read_csv (r\"C:\\Users\\maiguann\\OneDrive - Mars Inc\\Documents\\MW alert system DC\\data_csv\\stock MW 2609.csv\")\n",
    "stock_2.drop('Unnamed: 0', inplace=True, axis=1)\n",
    "stock_two_weeks = pd.merge(stock_1, stock_2)"
   ]
  },
  {
   "cell_type": "code",
   "execution_count": 16,
   "id": "0d7df29a-b837-4103-9145-430a4aa91a77",
   "metadata": {},
   "outputs": [],
   "source": [
    "stock_two_weeks=pd.merge(stock_two_weeks, matrix,on = ('plu_code', 'address_text'), how = 'left')\n",
    "stock_two_weeks = stock_two_weeks[stock_two_weeks['in_matrix']==1]\n"
   ]
  },
  {
   "cell_type": "markdown",
   "id": "c15f4c63-2bec-4718-b575-ac4f78ece282",
   "metadata": {},
   "source": [
    "## Data on sales"
   ]
  },
  {
   "cell_type": "code",
   "execution_count": 17,
   "id": "3fc11b08-0a15-46d8-8b5e-76f2df51a560",
   "metadata": {},
   "outputs": [],
   "source": [
    "data_sales = [col for col in sales_two_weeks if col.startswith('2021')]\n",
    "data_stock = [col for col in stock_two_weeks if col.startswith('2021')]"
   ]
  },
  {
   "cell_type": "code",
   "execution_count": 18,
   "id": "30c95a50-ec5c-4dd1-91df-1e3331b6cf34",
   "metadata": {},
   "outputs": [],
   "source": [
    "sales_two_weeks ['min_sales']= sales_two_weeks[data_sales].min(axis=1)"
   ]
  },
  {
   "cell_type": "code",
   "execution_count": 19,
   "id": "8bba6fc6-32b6-4054-b215-0977cb296a5a",
   "metadata": {},
   "outputs": [],
   "source": [
    "sales_two_weeks ['max_sales']= sales_two_weeks[data_stock].max(axis =1)"
   ]
  },
  {
   "cell_type": "code",
   "execution_count": 20,
   "id": "d7d83b58-f183-4a17-a314-f094b98a771d",
   "metadata": {},
   "outputs": [],
   "source": [
    "sales_two_weeks['max-min'] = sales_two_weeks['max_sales']-sales_two_weeks['min_sales']"
   ]
  },
  {
   "cell_type": "code",
   "execution_count": 21,
   "id": "0ff7eae6-ac0e-455d-975b-62f5d007e6a6",
   "metadata": {},
   "outputs": [],
   "source": [
    "#only zero sales for calculating virtual stock\n",
    "sales_two_weeks_zeroes = sales_two_weeks[sales_two_weeks['max_sales'].isnull()]\n",
    "sales_two_weeks_zeroes = sales_two_weeks_zeroes[[\"werks\", \"macro_name\", \"plu_code\", \"address_text\", \"assort_level\"]]"
   ]
  },
  {
   "cell_type": "code",
   "execution_count": 22,
   "id": "511f72fa-b7d7-4993-a431-223ab87f38ff",
   "metadata": {},
   "outputs": [],
   "source": [
    "#nonzero sales for calculating average sales per outlet\n",
    "sales_two_weeks_nonzeroes = sales_two_weeks[sales_two_weeks['max_sales']!=0]\n",
    "sales_two_weeks_nonzeroes = sales_two_weeks_nonzeroes[sales_two_weeks_nonzeroes['max_sales'].notnull()]\n",
    "data_sales_nonzero = [col for col in sales_two_weeks_nonzeroes if col.startswith('2021')]"
   ]
  },
  {
   "cell_type": "code",
   "execution_count": 23,
   "id": "8a36f8f5-df96-4aa5-baa1-97a1f6d499b7",
   "metadata": {},
   "outputs": [],
   "source": [
    "sales_two_weeks_nonzeroes ['2_weeks_sales']= sales_two_weeks_nonzeroes[data_sales_nonzero].sum(axis =1)"
   ]
  },
  {
   "cell_type": "code",
   "execution_count": 24,
   "id": "3f0978c2-0a0b-42a7-86a2-26874f205c6a",
   "metadata": {},
   "outputs": [],
   "source": [
    "sales_two_weeks_nonzeroes = sales_two_weeks_nonzeroes.groupby([\"macro_name\", \"plu_code\", \"plu_name\", \"assort_level\"]).agg({'werks':'size','2_weeks_sales':'sum'}).reset_index()"
   ]
  },
  {
   "cell_type": "code",
   "execution_count": 25,
   "id": "08562330-65a1-496f-b26d-56581aa9a490",
   "metadata": {},
   "outputs": [],
   "source": [
    "sales_two_weeks_nonzeroes['2_weeks_sales_per_outlet'] = sales_two_weeks_nonzeroes['2_weeks_sales']/sales_two_weeks_nonzeroes['werks']"
   ]
  },
  {
   "cell_type": "markdown",
   "id": "0a67972c-6fb0-45ca-9a7e-0f59731ae7f9",
   "metadata": {},
   "source": [
    "## Data on stock"
   ]
  },
  {
   "cell_type": "code",
   "execution_count": 26,
   "id": "9469ffe7-cc08-49ef-a7e0-d07e71f988be",
   "metadata": {},
   "outputs": [],
   "source": [
    "stock_two_weeks ['min_stock']= stock_two_weeks[data_stock].min(axis =1)\n",
    "\n",
    "stock_two_weeks ['max_stock']= stock_two_weeks[data_stock].max(axis =1)\n",
    "\n",
    "stock_two_weeks['max-min'] = stock_two_weeks['max_stock']-stock_two_weeks['min_stock']"
   ]
  },
  {
   "cell_type": "code",
   "execution_count": 27,
   "id": "d13cdbe2-8e6d-4885-888f-2f1581dc8ae3",
   "metadata": {},
   "outputs": [],
   "source": [
    "stock_two_weeks = stock_two_weeks[stock_two_weeks['max_stock']!=0]\n",
    "stock_two_weeks = stock_two_weeks[stock_two_weeks['max-min']==0]"
   ]
  },
  {
   "cell_type": "code",
   "execution_count": 28,
   "id": "9241a31c-6d55-4099-857f-88bfd39609b1",
   "metadata": {},
   "outputs": [],
   "source": [
    "stock_two_weeks = pd.merge(sales_two_weeks_zeroes, stock_two_weeks, how='inner')"
   ]
  },
  {
   "cell_type": "markdown",
   "id": "b3cee166-6645-47a6-b25a-17f6dcccea4b",
   "metadata": {},
   "source": [
    "#### Filtering out irrelevant sku"
   ]
  },
  {
   "cell_type": "code",
   "execution_count": 29,
   "id": "fe50b0db-3dcc-4461-998f-1c1bdaf64b97",
   "metadata": {},
   "outputs": [],
   "source": [
    "stock_two_weeks = stock_two_weeks[stock_two_weeks['plu_name']!=\"M&Ms Драж.MAXI с молочным шоколадом 70г\"]\n",
    "stock_two_weeks = stock_two_weeks[stock_two_weeks['plu_name']!=\"M&Ms Драже MAXI с арахисом 70г\"]\n",
    "stock_two_weeks = stock_two_weeks[stock_two_weeks['plu_name']!=\"M&MS Драже КРИСПИ хр.шар.мол.шок.гл.110г\"]\n",
    "stock_two_weeks = stock_two_weeks[stock_two_weeks['plu_name']!=\"M&Ms Драже с арахисом 130г\"] \n",
    "stock_two_weeks = stock_two_weeks[stock_two_weeks['plu_name']!=\"M&Ms Драже шоколадный 130г\"] \n",
    "stock_two_weeks = stock_two_weeks[stock_two_weeks['plu_name']!=\"SNICKERS SUP.Батончик шок.ж.ар/кар/н.95г\"]"
   ]
  },
  {
   "cell_type": "code",
   "execution_count": 30,
   "id": "a6981954-f254-4ee5-a9f4-53be8a140b4c",
   "metadata": {},
   "outputs": [],
   "source": [
    "#Join External codes\n",
    "stock_two_weeks = pd.merge(stock_two_weeks, na_code, left_on = 'werks', right_on = 'Outlet NA External Code', how = 'left')\n",
    "#Выгрузим список магазинов с виртуальным стоком\n",
    "stock_two_weeks.to_excel(r\"C:\\Users\\maiguann\\OneDrive - Mars Inc\\Documents\\MW alert system DC\\virtual_stock_final\\history\\list_of_virtual_stock_2609.xlsx\")"
   ]
  },
  {
   "cell_type": "markdown",
   "id": "5086086d-2594-4858-84e7-a518bc6c501a",
   "metadata": {},
   "source": [
    "## Calculating lost sales"
   ]
  },
  {
   "cell_type": "code",
   "execution_count": 31,
   "id": "068bdf22-eadd-40a4-b2ea-729c61c61c8a",
   "metadata": {},
   "outputs": [],
   "source": [
    "#current_prices['Product Code']=current_prices['Product Code'].astype(int)\n",
    "stock_two_weeks['plu_code']=stock_two_weeks['plu_code'].astype(int)"
   ]
  },
  {
   "cell_type": "code",
   "execution_count": 32,
   "id": "61f0d9c0-f62d-4196-a763-23c12396cd9c",
   "metadata": {},
   "outputs": [],
   "source": [
    "stock_two_weeks=stock_two_weeks.dropna(subset = ['assort_level'])"
   ]
  },
  {
   "cell_type": "code",
   "execution_count": 33,
   "id": "8081fa11-e84b-40d5-9a28-804f733d48ea",
   "metadata": {},
   "outputs": [],
   "source": [
    "sales_two_weeks_nonzeroes['plu_code']=sales_two_weeks_nonzeroes['plu_code'].astype(int)\n",
    "sales_two_weeks_nonzeroes['assort_level']=sales_two_weeks_nonzeroes['assort_level'].astype(int)\n",
    "stock_two_weeks['assort_level']=stock_two_weeks['assort_level'].astype(int)"
   ]
  },
  {
   "cell_type": "code",
   "execution_count": 34,
   "id": "a89c33ac-567a-477f-bd9e-2cfc55a3e04b",
   "metadata": {},
   "outputs": [],
   "source": [
    "#group stock dataset to macro\n",
    "stock_two_weeks = stock_two_weeks.groupby([\"macro_name\", \"plu_code\", \"plu_name\", \"assort_level\"]).agg({'werks':'size','max_stock':'sum'}).reset_index()\n"
   ]
  },
  {
   "cell_type": "code",
   "execution_count": 35,
   "id": "27064c27-6f34-49ee-8f89-752a9534e280",
   "metadata": {},
   "outputs": [],
   "source": [
    "# Join prices\n",
    "stock_two_weeks = pd.merge(stock_two_weeks, current_prices, left_on = ['plu_code'], right_on = ['Product Code'], how = 'left')"
   ]
  },
  {
   "cell_type": "code",
   "execution_count": 36,
   "id": "23a95761-a3d5-47d1-9db8-abf67e360a6c",
   "metadata": {},
   "outputs": [
    {
     "data": {
      "text/plain": [
       "244"
      ]
     },
     "execution_count": 36,
     "metadata": {},
     "output_type": "execute_result"
    }
   ],
   "source": [
    "stock_two_weeks['price'].isna().sum()"
   ]
  },
  {
   "cell_type": "code",
   "execution_count": 37,
   "id": "26f098fc-5466-4c10-9794-16434a517169",
   "metadata": {},
   "outputs": [],
   "source": [
    "stock_two_weeks = pd.merge(stock_two_weeks, sales_two_weeks_nonzeroes, on = (\"macro_name\", \"plu_code\", \"assort_level\"), how = 'left')\n"
   ]
  },
  {
   "cell_type": "code",
   "execution_count": 38,
   "id": "23c35351-f156-4c49-9dca-f53679445379",
   "metadata": {},
   "outputs": [],
   "source": [
    "stock_two_weeks['lost_sales_rub'] = stock_two_weeks['werks_x']*stock_two_weeks['price']*stock_two_weeks['2_weeks_sales_per_outlet']"
   ]
  },
  {
   "cell_type": "code",
   "execution_count": 39,
   "id": "44aa95d5-08c3-408a-8abd-5a78900e01ef",
   "metadata": {},
   "outputs": [],
   "source": [
    "stock_two_weeks.to_excel(r\"C:\\Users\\maiguann\\OneDrive - Mars Inc\\Documents\\MW alert system DC\\virtual_stock_final\\history\\lost_sales_0310.xlsx\")"
   ]
  },
  {
   "cell_type": "markdown",
   "id": "83e8ccc6-0ffc-415b-9074-b28ff8c4e9f8",
   "metadata": {},
   "source": [
    "## In dynamics (lost sales)"
   ]
  },
  {
   "cell_type": "markdown",
   "id": "fd1fd235-cd49-4069-865d-2493506c9676",
   "metadata": {},
   "source": [
    "#### To see how lost sales are changing"
   ]
  },
  {
   "cell_type": "code",
   "execution_count": 40,
   "id": "d25a3485-b3d4-4f02-94d2-41227a737464",
   "metadata": {},
   "outputs": [],
   "source": [
    "stock_2 = pd.read_excel(r\"C:\\Users\\maiguann\\OneDrive - Mars Inc\\Documents\\MW alert system DC\\virtual_stock_final\\history\\lost_sales_2609.xlsx\")\n",
    "stock_3 = pd.read_excel(r\"C:\\Users\\maiguann\\OneDrive - Mars Inc\\Documents\\MW alert system DC\\virtual_stock_final\\history\\lost_sales_1909.xlsx\")\n",
    "stock_1 = pd.read_excel(r\"C:\\Users\\maiguann\\OneDrive - Mars Inc\\Documents\\MW alert system DC\\virtual_stock_final\\history\\lost_sales_0310.xlsx\")"
   ]
  },
  {
   "cell_type": "code",
   "execution_count": 41,
   "id": "da49b016-0651-4e93-ba33-bffb6394e19c",
   "metadata": {},
   "outputs": [],
   "source": [
    "stock_1 = stock_1 [['macro_name', 'plu_code', 'plu_name_x', 'plu_name_y','assort_level','lost_sales_rub']]\n",
    "stock_2 = stock_2 [['macro_name', 'plu_code', 'plu_name_x', 'plu_name_y','assort_level','lost_sales_rub']]   \n",
    "stock_3 = stock_3 [['macro_name', 'plu_code', 'plu_name_x', 'plu_name_y','assort_level','lost_sales_rub']]\n"
   ]
  },
  {
   "cell_type": "code",
   "execution_count": 42,
   "id": "ffa3c60c-292f-49d0-bcfc-504eb73413fe",
   "metadata": {},
   "outputs": [],
   "source": [
    "stock_21 = pd.merge(stock_2, stock_1, on = ('macro_name', 'plu_code', 'plu_name_x', 'plu_name_y','assort_level'), how = 'outer')\n"
   ]
  },
  {
   "cell_type": "code",
   "execution_count": 43,
   "id": "c0a1072e-080a-42cb-857a-186e85b199c2",
   "metadata": {},
   "outputs": [],
   "source": [
    "stock_3_weeks = pd.merge(stock_3, stock_21, on = ('macro_name', 'plu_code', 'plu_name_x', 'plu_name_y','assort_level'), how = 'outer')\n"
   ]
  },
  {
   "cell_type": "code",
   "execution_count": 44,
   "id": "56c84f23-6832-4b25-bd43-0e1d40c33e0a",
   "metadata": {},
   "outputs": [],
   "source": [
    "stock_3_weeks.to_excel(r\"C:\\Users\\maiguann\\OneDrive - Mars Inc\\Documents\\MW alert system DC\\virtual_stock_final\\lost_sales_3_weeks.xlsx\")"
   ]
  },
  {
   "cell_type": "markdown",
   "id": "c09067f2-30d5-4fe4-a450-1901c69aaf4d",
   "metadata": {},
   "source": [
    "## In dynamics (list of outlets)"
   ]
  },
  {
   "cell_type": "code",
   "execution_count": 45,
   "id": "b47d7557-2f25-4100-8fc6-975ea9999b68",
   "metadata": {},
   "outputs": [],
   "source": [
    "stock_2 = pd.read_excel(r\"C:\\Users\\maiguann\\OneDrive - Mars Inc\\Documents\\MW alert system DC\\virtual_stock_final\\history\\list_of_virtual_stock_2609.xlsx\")\n",
    "stock_3 = pd.read_excel(r\"C:\\Users\\maiguann\\OneDrive - Mars Inc\\Documents\\MW alert system DC\\virtual_stock_final\\history\\list_of_virtual_stock_1909.xlsx\")\n",
    "stock_1 = pd.read_excel(r\"C:\\Users\\maiguann\\OneDrive - Mars Inc\\Documents\\MW alert system DC\\virtual_stock_final\\history\\list_of_virtual_stock_0310.xlsx\")"
   ]
  },
  {
   "cell_type": "code",
   "execution_count": 46,
   "id": "ce1dbf00-e28e-4bd4-b345-b7dfe7bc6813",
   "metadata": {},
   "outputs": [],
   "source": [
    "stock_1 = stock_1.rename(columns = {'Outlet NA SWE Code_y':'Outlet NA SWE Code'})"
   ]
  },
  {
   "cell_type": "code",
   "execution_count": 47,
   "id": "ddc2fc35-6740-4de7-a6bc-bfd36ce91f47",
   "metadata": {},
   "outputs": [],
   "source": [
    "stock_1 = stock_1 [['werks', 'macro_name', 'plu_code', 'address_text','assort_level', 'plu_name','brand_name','max_stock', 'Outlet NA SWE Code']]\n",
    "stock_2 = stock_2 [['werks', 'macro_name', 'plu_code', 'address_text','assort_level', 'plu_name','brand_name','max_stock', 'Outlet NA SWE Code']]   \n",
    "stock_3 = stock_3 [['werks', 'macro_name', 'plu_code', 'address_text','assort_level', 'plu_name','brand_name','max_stock', 'Outlet NA SWE Code']]\n"
   ]
  },
  {
   "cell_type": "code",
   "execution_count": 48,
   "id": "96f8c5a3-19a9-487e-9b0f-97b58a023407",
   "metadata": {},
   "outputs": [],
   "source": [
    "stock_21 = pd.merge(stock_2, stock_1, on = ('werks', 'macro_name', 'plu_code', 'address_text','assort_level', 'plu_name','brand_name','Outlet NA SWE Code'), how = 'outer')\n"
   ]
  },
  {
   "cell_type": "code",
   "execution_count": 49,
   "id": "b6c415f9-1ee3-4b4e-9202-b9dc69247959",
   "metadata": {},
   "outputs": [],
   "source": [
    "stock_3_weeks = pd.merge(stock_3, stock_21, on = ('werks', 'macro_name', 'plu_code', 'address_text','assort_level', 'plu_name','brand_name','Outlet NA SWE Code'), how = 'outer')"
   ]
  },
  {
   "cell_type": "code",
   "execution_count": 50,
   "id": "e965b18f-7d59-455d-b709-2b163d616d0e",
   "metadata": {},
   "outputs": [],
   "source": [
    "stock_3_weeks.to_excel(r\"C:\\Users\\maiguann\\OneDrive - Mars Inc\\Documents\\MW alert system DC\\virtual_stock_final\\list_of_outlets_3_weeks.xlsx\")"
   ]
  },
  {
   "cell_type": "code",
   "execution_count": null,
   "id": "8cfdfb79-21aa-4d72-9c1c-668cde69cc11",
   "metadata": {},
   "outputs": [],
   "source": []
  }
 ],
 "metadata": {
  "kernelspec": {
   "display_name": "Python 3 (ipykernel)",
   "language": "python",
   "name": "python3"
  },
  "language_info": {
   "codemirror_mode": {
    "name": "ipython",
    "version": 3
   },
   "file_extension": ".py",
   "mimetype": "text/x-python",
   "name": "python",
   "nbconvert_exporter": "python",
   "pygments_lexer": "ipython3",
   "version": "3.9.5"
  }
 },
 "nbformat": 4,
 "nbformat_minor": 5
}
